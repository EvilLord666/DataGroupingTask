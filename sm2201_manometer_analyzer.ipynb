{
  "nbformat": 4,
  "nbformat_minor": 0,
  "metadata": {
    "colab": {
      "name": "sm2201_manometer_analyzer.ipynb",
      "version": "0.3.2",
      "provenance": [],
      "collapsed_sections": [],
      "include_colab_link": true
    },
    "kernelspec": {
      "name": "python3",
      "display_name": "Python 3"
    },
    "accelerator": "GPU"
  },
  "cells": [
    {
      "cell_type": "markdown",
      "metadata": {
        "id": "view-in-github",
        "colab_type": "text"
      },
      "source": [
        "<a href=\"https://colab.research.google.com/github/EvilLord666/DataGroupingTask/blob/master/sm2201_manometer_analyzer.ipynb\" target=\"_parent\"><img src=\"https://colab.research.google.com/assets/colab-badge.svg\" alt=\"Open In Colab\"/></a>"
      ]
    },
    {
      "cell_type": "markdown",
      "metadata": {
        "id": "i5oIySvv66vf",
        "colab_type": "text"
      },
      "source": [
        "Получение списка изображений с гугл диска, изображения представляют собой классификацию положения стрелки манометра\n",
        "шкала (0-1,6 атм.)\n",
        "Изображения рассортированы по директориям с положением стрелки манометра около соответсвующего значения шкалы:\n",
        "\n",
        "*   0,1 атм\n",
        "*   0,2 атм\n",
        "\n",
        "...\n",
        "\n",
        "*   1,6 атм\n",
        "\n",
        "Для поиска варианта при котором наиболее оптимальный результат оценки работы нейросети изображения имеют разную степень свертки (оригинал, 128х128 пикселей, ...)\n",
        "Оригинал имеет имя типа {Value}.{Number}\n",
        "где {Value} - величина давления\n",
        "       {Number} - какое-то число (номер изображения)\n",
        "\n",
        "ФОРМАТ ИЗОБРАЖЕНИЙ - .jpg\n"
      ]
    },
    {
      "cell_type": "markdown",
      "metadata": {
        "id": "dQ2NysP8NQb9",
        "colab_type": "text"
      },
      "source": [
        "Монтирование гугл диска"
      ]
    },
    {
      "cell_type": "code",
      "metadata": {
        "id": "UbY6-H_C9PN-",
        "colab_type": "code",
        "outputId": "d1e04561-5376-4e18-bcdd-bfc0aa6d59c1",
        "colab": {
          "base_uri": "https://localhost:8080/",
          "height": 121
        }
      },
      "source": [
        "from google.colab import drive\n",
        "drive.mount(u'/content/gdrive')"
      ],
      "execution_count": 0,
      "outputs": [
        {
          "output_type": "stream",
          "text": [
            "Go to this URL in a browser: https://accounts.google.com/o/oauth2/auth?client_id=947318989803-6bn6qk8qdgf4n4g3pfee6491hc0brc4i.apps.googleusercontent.com&redirect_uri=urn%3Aietf%3Awg%3Aoauth%3A2.0%3Aoob&scope=email%20https%3A%2F%2Fwww.googleapis.com%2Fauth%2Fdocs.test%20https%3A%2F%2Fwww.googleapis.com%2Fauth%2Fdrive%20https%3A%2F%2Fwww.googleapis.com%2Fauth%2Fdrive.photos.readonly%20https%3A%2F%2Fwww.googleapis.com%2Fauth%2Fpeopleapi.readonly&response_type=code\n",
            "\n",
            "Enter your authorization code:\n",
            "··········\n",
            "Mounted at /content/gdrive\n"
          ],
          "name": "stdout"
        }
      ]
    },
    {
      "cell_type": "code",
      "metadata": {
        "id": "M2qiPpFcPFgo",
        "colab_type": "code",
        "outputId": "f11c1101-47c7-49a3-d2b4-4ce53d14da0e",
        "colab": {
          "base_uri": "https://localhost:8080/",
          "height": 1546
        }
      },
      "source": [
        "import os\n",
        "from tensorflow.python.keras.preprocessing.image import ImageDataGenerator\n",
        "from tensorflow.python.keras.models import Sequential\n",
        "from tensorflow.python.keras.layers import Conv2D, MaxPooling2D\n",
        "from tensorflow.python.keras.layers import Activation, Dropout, Flatten, Dense\n",
        "from tensorflow.python.keras.applications import VGG16\n",
        "\n",
        "\n",
        "# list root dir\n",
        "# for item in os.listdir(u'/content/gdrive/My Drive'):\n",
        "#    print(u'sub folder item: ' + item)\n",
        "\n",
        "manometer_nn_data_path = os.path.join(u'/content/gdrive', 'My Drive/MessbauerSoft/NeuralNetworks_Data/Manometer')\n",
        "print (u'path to root folder with manometer neural network data is:' + os.path.abspath(manometer_nn_data_path))\n",
        "\n",
        "# manometer train data = test (it is not good, but we are going to use this case)\n",
        "train_data_path = os.path.join(manometer_nn_data_path, u'train')\n",
        "test_data_path = os.path.join(manometer_nn_data_path, u'test')\n",
        "validate_data_path = os.path.join(manometer_nn_data_path, u'validate')\n",
        "\n",
        "# list sub folder (classification items)\n",
        "'''\n",
        "for item in os.listdir(train_data_path):\n",
        "    print(u'sub folder item: ' + item)\n",
        "'''\n",
        "img_width, img_height = 128, 128\n",
        "\n",
        "input_shape = (img_width, img_height, 3)\n",
        "\n",
        "epochs = 30\n",
        "\n",
        "batch_size = 6\n",
        "\n",
        "nb_classes = 33\n",
        "\n",
        "# todo: umv: count images\n",
        "nb_train_samples = 35\n",
        "\n",
        "vgg16_net = VGG16(include_top=False, input_shape=input_shape, pooling='max')\n",
        "# vgg16_net.summary()\n",
        "\n",
        "model = Sequential()\n",
        "model.add(vgg16_net)\n",
        "#model.add(Flatten())\n",
        "model.add(Dense(1024))\n",
        "model.add(Activation('relu'))\n",
        "model.add(Dense(nb_classes))\n",
        "model.add(Activation('softmax'))\n",
        "model.summary()\n",
        "\n",
        "# optimizer SGD - Stochastic gradient descent optimizer, has a lot of params\n",
        "# see optimizers here: https://keras.io/optimizers/\n",
        "model.compile(loss='categorical_crossentropy', optimizer='SGD', metrics=['accuracy'])\n",
        "\n",
        "datagen = ImageDataGenerator(rescale=1. / 255)\n",
        "train_generator = datagen.flow_from_directory(train_data_path,\n",
        "                                              target_size=(img_width, img_height),\n",
        "                                              batch_size=batch_size,\n",
        "                                              class_mode='categorical')\n",
        "\n",
        "# i don't know would we use validation or not ...\n",
        "validation_generator = datagen.flow_from_directory(validate_data_path, \n",
        "                                                   target_size=(img_width, img_height),\n",
        "                                                   batch_size=batch_size,\n",
        "                                                   class_mode='categorical')\n",
        "\n",
        "\n",
        "model.fit_generator(train_generator, \n",
        "                    steps_per_epoch=1,\n",
        "                    epochs=epochs,\n",
        "                    validation_data=None\n",
        "                    #validation_steps=nb_validation_samples // batch_size\n",
        "                   )\n",
        "\n",
        "nb_test_samples = 5\n",
        "test_generator = datagen.flow_from_directory(test_data_path,\n",
        "                                             target_size=(img_width, img_height),\n",
        "                                             batch_size=batch_size,\n",
        "                                             class_mode='categorical')\n",
        "\n",
        "# TEST generated neural network\n",
        "prediction = model.predict_generator(test_generator, nb_test_samples)\n",
        "for cls in train_generator.class_indices:\n",
        "    print(str(cls) + ': ' + str(prediction[0][train_generator.class_indices[cls]]))\n"
      ],
      "execution_count": 42,
      "outputs": [
        {
          "output_type": "stream",
          "text": [
            "6/6 [==============================] - 0s 67ms/step - loss: 3.6687 - acc: 0.0303\n",
            "Epoch 3/30\n",
            "6/6 [==============================] - 0s 48ms/step - loss: 3.6418 - acc: 0.0303\n",
            "Epoch 4/30\n",
            "6/6 [==============================] - 0s 67ms/step - loss: 3.6180 - acc: 0.0000e+00\n",
            "Epoch 5/30\n",
            "6/6 [==============================] - 0s 49ms/step - loss: 3.5924 - acc: 0.0000e+00\n",
            "Epoch 6/30\n",
            "6/6 [==============================] - 0s 65ms/step - loss: 3.5921 - acc: 0.0303\n",
            "Epoch 7/30\n",
            "6/6 [==============================] - 0s 49ms/step - loss: 3.5686 - acc: 0.0000e+00\n",
            "Epoch 8/30\n",
            "6/6 [==============================] - 0s 50ms/step - loss: 3.5603 - acc: 0.0606\n",
            "Epoch 9/30\n",
            "6/6 [==============================] - 0s 49ms/step - loss: 3.5192 - acc: 0.0606\n",
            "Epoch 10/30\n",
            "6/6 [==============================] - 0s 65ms/step - loss: 3.5200 - acc: 0.0303\n",
            "Epoch 11/30\n",
            "6/6 [==============================] - 0s 67ms/step - loss: 3.4632 - acc: 0.0000e+00\n",
            "Epoch 12/30\n",
            "6/6 [==============================] - 0s 48ms/step - loss: 3.4318 - acc: 0.0606\n",
            "Epoch 13/30\n",
            "6/6 [==============================] - 0s 65ms/step - loss: 3.4215 - acc: 0.0000e+00\n",
            "Epoch 14/30\n",
            "6/6 [==============================] - 0s 50ms/step - loss: 3.3100 - acc: 0.0303\n",
            "Epoch 15/30\n",
            "6/6 [==============================] - 0s 66ms/step - loss: 3.2055 - acc: 0.0909\n",
            "Epoch 16/30\n",
            "6/6 [==============================] - 0s 47ms/step - loss: 3.2845 - acc: 0.1212\n",
            "Epoch 17/30\n",
            "6/6 [==============================] - 0s 68ms/step - loss: 3.1545 - acc: 0.1212\n",
            "Epoch 18/30\n",
            "6/6 [==============================] - 0s 47ms/step - loss: 3.2544 - acc: 0.0606\n",
            "Epoch 19/30\n",
            "6/6 [==============================] - 0s 66ms/step - loss: 3.2823 - acc: 0.0606\n",
            "Epoch 20/30\n",
            "6/6 [==============================] - 0s 49ms/step - loss: 3.3631 - acc: 0.0000e+00\n",
            "Epoch 21/30\n",
            "6/6 [==============================] - 0s 65ms/step - loss: 3.0174 - acc: 0.0909\n",
            "Epoch 22/30\n",
            "6/6 [==============================] - 0s 48ms/step - loss: 2.9280 - acc: 0.2121\n",
            "Epoch 23/30\n",
            "6/6 [==============================] - 0s 66ms/step - loss: 2.7094 - acc: 0.1818\n",
            "Epoch 24/30\n",
            "6/6 [==============================] - 0s 48ms/step - loss: 2.6474 - acc: 0.1515\n",
            "Epoch 25/30\n",
            "6/6 [==============================] - 0s 67ms/step - loss: 2.4039 - acc: 0.1818\n",
            "Epoch 26/30\n",
            "6/6 [==============================] - 0s 49ms/step - loss: 2.9340 - acc: 0.0909\n",
            "Epoch 27/30\n",
            "6/6 [==============================] - 0s 63ms/step - loss: 2.7185 - acc: 0.1212\n",
            "Epoch 28/30\n",
            "6/6 [==============================] - 0s 50ms/step - loss: 2.5981 - acc: 0.2121\n",
            "Epoch 29/30\n",
            "6/6 [==============================] - 0s 65ms/step - loss: 2.4733 - acc: 0.3030\n",
            "Epoch 30/30\n",
            "6/6 [==============================] - 0s 50ms/step - loss: 2.0784 - acc: 0.2424\n",
            "Found 5 images belonging to 1 classes.\n",
            "0,00: 0.038358893\n",
            "0,05: 0.019868918\n",
            "0,10: 0.017223496\n",
            "0,15: 0.0038565546\n",
            "0,20: 0.020227369\n",
            "0,25: 0.007858644\n",
            "0,30: 0.03335941\n",
            "0,35: 0.014430797\n",
            "0,40: 0.06748237\n",
            "0,45: 0.035366546\n",
            "0,50: 0.029048802\n",
            "0,55: 0.05320748\n",
            "0,60: 0.016656136\n",
            "0,65: 0.119127996\n",
            "0,70: 0.006001114\n",
            "0,75: 0.26571557\n",
            "0,80: 0.007213947\n",
            "0,85: 0.0074277176\n",
            "0,90: 0.0102162855\n",
            "0,95: 0.0035178987\n",
            "1,00: 0.015679566\n",
            "1,05: 0.0074483957\n",
            "1,10: 0.006250095\n",
            "1,15: 0.003430953\n",
            "1,20: 0.0062436177\n",
            "1,25: 0.006414863\n",
            "1,30: 0.0061393995\n",
            "1,35: 0.03780759\n",
            "1,40: 0.0031570424\n",
            "1,45: 0.0045121657\n",
            "1,50: 0.017034827\n",
            "1,55: 0.086985074\n",
            "1,60: 0.022730535\n"
          ],
          "name": "stdout"
        }
      ]
    },
    {
      "cell_type": "markdown",
      "metadata": {
        "colab_type": "text",
        "id": "ObG0td0qBxY6"
      },
      "source": [
        ""
      ]
    }
  ]
}